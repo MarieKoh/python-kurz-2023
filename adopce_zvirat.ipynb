{
 "cells": [
  {
   "cell_type": "code",
   "execution_count": 7,
   "metadata": {},
   "outputs": [],
   "source": [
    "import pandas"
   ]
  },
  {
   "cell_type": "code",
   "execution_count": 9,
   "metadata": {},
   "outputs": [
    {
     "name": "stdout",
     "output_type": "stream",
     "text": [
      "Počet řádků: 513\n",
      "Počet sloupců: 6\n",
      "Názvy sloupců:\n",
      "id\n",
      "nazev_cz\n",
      "nazev_en\n",
      "trida_cz\n",
      "cena\n",
      "k_prohlidce\n",
      "Zvíře na řádku 34: Ibis bílý\n",
      "Anglický název: White ibis\n"
     ]
    }
   ],
   "source": [
    "data = pandas.read_csv('adopce-zvirat.txt', sep=';')\n",
    "print(f'Počet řádků: {data.shape[0]}')\n",
    "print(f'Počet sloupců: {data.shape[1]}')\n",
    "print('Názvy sloupců:')\n",
    "for col in data.columns:\n",
    "    print(col)\n",
    "\n",
    "print(f'Zvíře na řádku 34: {data.loc[34, \"nazev_cz\"]}')\n",
    "print(f'Anglický název: {data.loc[34, \"nazev_en\"]}')"
   ]
  },
  {
   "cell_type": "code",
   "execution_count": 10,
   "metadata": {},
   "outputs": [
    {
     "name": "stdout",
     "output_type": "stream",
     "text": [
      "Nejdražší adopce: Tygr sumaterský, cena: 50000\n",
      "Poslední zvíře v češtině: Žluva hajní\n",
      "Poslední zvíře v angličtině: Yellow-necked francolin\n"
     ]
    }
   ],
   "source": [
    "nejdrazsi_adopce = data.sort_values(by='cena', ascending=False).iloc[0]\n",
    "print(f'Nejdražší adopce: {nejdrazsi_adopce[\"nazev_cz\"]}, cena: {nejdrazsi_adopce[\"cena\"]}')\n",
    "\n",
    "posledni_v_cestine = data.sort_values(by='nazev_cz', ascending=False).iloc[0]\n",
    "print(f'Poslední zvíře v češtině: {posledni_v_cestine[\"nazev_cz\"]}')\n",
    "\n",
    "posledni_v_anglictine = data.sort_values(by='nazev_en', ascending=False).iloc[0]\n",
    "print(f'Poslední zvíře v angličtině: {posledni_v_anglictine[\"nazev_en\"]}')"
   ]
  }
 ],
 "metadata": {
  "kernelspec": {
   "display_name": "Python 3",
   "language": "python",
   "name": "python3"
  },
  "language_info": {
   "name": "python",
   "version": "3.9.10"
  },
  "orig_nbformat": 4
 },
 "nbformat": 4,
 "nbformat_minor": 2
}
